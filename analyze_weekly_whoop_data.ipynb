{
 "cells": [
  {
   "cell_type": "code",
   "execution_count": null,
   "metadata": {},
   "outputs": [],
   "source": [
    "import pandas as pd"
   ]
  },
  {
   "cell_type": "code",
   "execution_count": null,
   "metadata": {},
   "outputs": [],
   "source": [
    "# Change this variable to the path of your whoop data\n",
    "path_to_whoop_data = 'whoop_data.csv'"
   ]
  },
  {
   "cell_type": "code",
   "execution_count": null,
   "metadata": {},
   "outputs": [],
   "source": [
    "whoop_dataframe = pd.read_csv(path_to_whoop_data)"
   ]
  },
  {
   "cell_type": "code",
   "execution_count": null,
   "metadata": {},
   "outputs": [],
   "source": [
    "# Calculating Weekly Mean for Scaled Strain\n",
    "whoop_dataframe['Date'] = pd.to_datetime(whoop_dataframe['Date'])\n",
    "whoop_dataframe['Week'] = whoop_dataframe['Date'].dt.strftime('%Y-%U')\n",
    "weekly_mean_scaled_strain = whoop_dataframe.groupby('Week')['Scaled Strain'].mean()"
   ]
  },
  {
   "cell_type": "code",
   "execution_count": null,
   "metadata": {},
   "outputs": [],
   "source": [
    "# Calculating Weekly Mean for Time in Bed\n",
    "whoop_dataframe['Time in Bed (hours)'] = whoop_dataframe['Time in Bed'] / (1000 * 60 * 60)\n",
    "weekly_mean_time_in_bed = whoop_dataframe.groupby('Week')['Time in Bed (hours)'].mean()\n"
   ]
  },
  {
   "cell_type": "code",
   "execution_count": null,
   "metadata": {},
   "outputs": [],
   "source": [
    "# Export Weekly Mean Calculations to CSV\n",
    "weekly_mean_scaled_strain.to_csv('weekly_mean_scaled_strain.csv')\n",
    "weekly_mean_time_in_bed.to_csv('weekly_mean_time_in_bed.csv') "
   ]
  }
 ],
 "metadata": {
  "language_info": {
   "name": "python"
  }
 },
 "nbformat": 4,
 "nbformat_minor": 2
}
